{
 "cells": [
  {
   "cell_type": "code",
   "execution_count": 2,
   "metadata": {},
   "outputs": [
    {
     "name": "stdout",
     "output_type": "stream",
     "text": [
      "0\n",
      "1\n",
      "2\n",
      "1 -> 2 -> 3 -> 4 -> None\n"
     ]
    }
   ],
   "source": [
    "class Node:\n",
    "    def __init__(self, data):\n",
    "        self.data = data\n",
    "        self.next = None\n",
    "\n",
    "class LinkedList:\n",
    "    def __init__(self):\n",
    "        self.head = None\n",
    "\n",
    "    def append(self, data):\n",
    "        count = 0\n",
    "        new_node = Node(data)\n",
    "        if not self.head:\n",
    "            self.head = new_node\n",
    "            return\n",
    "        current_node = self.head\n",
    "        while current_node.next:\n",
    "            count += 1\n",
    "            current_node = current_node.next\n",
    "        current_node.next = new_node\n",
    "        print(count)\n",
    "        \n",
    "    def display(self):\n",
    "        current_node = self.head\n",
    "        while current_node:\n",
    "            print(current_node.data, end=\" -> \")\n",
    "            current_node = current_node.next\n",
    "        print(\"None\")\n",
    "\n",
    "# Creating a linked list\n",
    "my_list = LinkedList()\n",
    "\n",
    "# Appending elements to the linked list\n",
    "my_list.append(1) # head\n",
    "my_list.append(2) # 0 step\n",
    "my_list.append(3) # 1 step\n",
    "my_list.append(4) # 2 step\n",
    "\n",
    "# Displaying the linked list\n",
    "my_list.display()\n"
   ]
  },
  {
   "cell_type": "code",
   "execution_count": 7,
   "metadata": {},
   "outputs": [
    {
     "name": "stdout",
     "output_type": "stream",
     "text": [
      "1 -> 2 -> 3 -> 4 ->  None\n"
     ]
    }
   ],
   "source": [
    "class Node:\n",
    "    def __init__(self, data):\n",
    "        self.data = data\n",
    "        self.next = None\n",
    "\n",
    "class LinkedList:\n",
    "    def __init__(self):\n",
    "        self.head = None\n",
    "    \n",
    "    def append(self, data):\n",
    "        node = Node(data)\n",
    "        if not self.head:\n",
    "            self.head = node\n",
    "            return\n",
    "        current_node = self.head\n",
    "        while current_node.next:\n",
    "            current_node = current_node.next\n",
    "        current_node.next = node\n",
    "        \n",
    "    def display(self):\n",
    "        current_node = self.head\n",
    "        while current_node:\n",
    "            print(current_node.data, end=\" -> \")\n",
    "            current_node = current_node.next\n",
    "        print(' None')\n",
    "        \n",
    "linkedlist = LinkedList()\n",
    "linkedlist.append(1)\n",
    "linkedlist.append(2)\n",
    "linkedlist.append(3)\n",
    "linkedlist.append(4)\n",
    "linkedlist.display()\n",
    "            "
   ]
  },
  {
   "cell_type": "code",
   "execution_count": null,
   "metadata": {},
   "outputs": [],
   "source": []
  }
 ],
 "metadata": {
  "kernelspec": {
   "display_name": "Python 3",
   "language": "python",
   "name": "python3"
  },
  "language_info": {
   "codemirror_mode": {
    "name": "ipython",
    "version": 3
   },
   "file_extension": ".py",
   "mimetype": "text/x-python",
   "name": "python",
   "nbconvert_exporter": "python",
   "pygments_lexer": "ipython3",
   "version": "3.8.10"
  }
 },
 "nbformat": 4,
 "nbformat_minor": 2
}
