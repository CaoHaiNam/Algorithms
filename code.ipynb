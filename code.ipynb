{
 "cells": [
  {
   "cell_type": "code",
   "execution_count": 3,
   "metadata": {},
   "outputs": [],
   "source": []
  },
  {
   "cell_type": "code",
   "execution_count": 18,
   "metadata": {},
   "outputs": [],
   "source": [
    "from typing import Dict, List"
   ]
  },
  {
   "attachments": {},
   "cell_type": "markdown",
   "metadata": {},
   "source": [
    "# Permutation generation"
   ]
  },
  {
   "attachments": {},
   "cell_type": "markdown",
   "metadata": {},
   "source": [
    "## cách 1"
   ]
  },
  {
   "cell_type": "code",
   "execution_count": 16,
   "metadata": {},
   "outputs": [
    {
     "name": "stdout",
     "output_type": "stream",
     "text": [
      "['A', 'B', 'C']\n",
      "['A', 'B', 'C']\n",
      "['A', 'B', 'C']\n",
      "result\n",
      "ABC\n",
      "['A', 'B', 'C']\n",
      "\n",
      "\n",
      "['A', 'B', 'C']\n",
      "\n",
      "\n",
      "['A', 'C', 'B']\n",
      "['A', 'C', 'B']\n",
      "result\n",
      "ACB\n",
      "['A', 'C', 'B']\n",
      "\n",
      "\n",
      "['A', 'B', 'C']\n",
      "\n",
      "\n",
      "['A', 'B', 'C']\n",
      "\n",
      "\n",
      "['B', 'A', 'C']\n",
      "['B', 'A', 'C']\n",
      "['B', 'A', 'C']\n",
      "result\n",
      "BAC\n",
      "['B', 'A', 'C']\n",
      "\n",
      "\n",
      "['B', 'A', 'C']\n",
      "\n",
      "\n",
      "['B', 'C', 'A']\n",
      "['B', 'C', 'A']\n",
      "result\n",
      "BCA\n",
      "['B', 'C', 'A']\n",
      "\n",
      "\n",
      "['B', 'A', 'C']\n",
      "\n",
      "\n",
      "['A', 'B', 'C']\n",
      "\n",
      "\n",
      "['C', 'B', 'A']\n",
      "['C', 'B', 'A']\n",
      "['C', 'B', 'A']\n",
      "result\n",
      "CBA\n",
      "['C', 'B', 'A']\n",
      "\n",
      "\n",
      "['C', 'B', 'A']\n",
      "\n",
      "\n",
      "['C', 'A', 'B']\n",
      "['C', 'A', 'B']\n",
      "result\n",
      "CAB\n",
      "['C', 'A', 'B']\n",
      "\n",
      "\n",
      "['C', 'B', 'A']\n",
      "\n",
      "\n",
      "['A', 'B', 'C']\n",
      "\n",
      "\n"
     ]
    }
   ],
   "source": [
    "# Python3 program to print all permutations with\n",
    "# duplicates allowed\n",
    "def toString(List):\n",
    "\treturn ''.join(List)\n",
    "\n",
    "# Function to print permutations of string\n",
    "# This function takes three parameters:\n",
    "# 1. String\n",
    "# 2. Starting index of the string\n",
    "# 3. Ending index of the string.\n",
    "\n",
    "\n",
    "def permute(a, l, r):\n",
    "\tif l == r:\n",
    "\t\tprint('result')\n",
    "\t\tprint(toString(a))\n",
    "\telse:\n",
    "\t\tfor i in range(l, r):\n",
    "\t\t\t\n",
    "\t\t\ta[l], a[i] = a[i], a[l]\n",
    "\t\t\t\n",
    "\t\t\tprint(a)\n",
    "\t\t\tpermute(a, l+1, r)\n",
    "\t\t\t\n",
    "\t\t\ta[l], a[i] = a[i], a[l] # backtrack\n",
    "\t\t\tprint(a)\n",
    "\t\t\tprint('\\n')\n",
    "\n",
    "\n",
    "# Driver code\n",
    "string = \"ABC\"\n",
    "n = len(string)\n",
    "a = list(string)\n",
    "\n",
    "# Function call\n",
    "permute(a, 0, n)\n",
    "\n",
    "# This code is contributed by Bhavya Jain\n"
   ]
  },
  {
   "cell_type": "code",
   "execution_count": 17,
   "metadata": {},
   "outputs": [
    {
     "name": "stdout",
     "output_type": "stream",
     "text": [
      "['A', 'B', 'C']\n",
      "['A', 'B', 'C']\n",
      "['A', 'B', 'C']\n",
      "result\n",
      "ABC\n",
      "['A', 'B', 'C']\n",
      "1\n",
      "['A', 'B', 'C']\n",
      "1\n",
      "['A', 'C', 'B']\n",
      "['A', 'C', 'B']\n",
      "result\n",
      "ACB\n",
      "['A', 'C', 'B']\n",
      "1\n",
      "['A', 'B', 'C']\n",
      "1\n",
      "['A', 'B', 'C']\n",
      "1\n",
      "['B', 'A', 'C']\n",
      "['B', 'A', 'C']\n",
      "['B', 'A', 'C']\n",
      "result\n",
      "BAC\n",
      "['B', 'A', 'C']\n",
      "1\n",
      "['B', 'A', 'C']\n",
      "1\n",
      "['B', 'C', 'A']\n",
      "['B', 'C', 'A']\n",
      "result\n",
      "BCA\n",
      "['B', 'C', 'A']\n",
      "1\n",
      "['B', 'A', 'C']\n",
      "1\n",
      "['A', 'B', 'C']\n",
      "1\n",
      "['C', 'B', 'A']\n",
      "['C', 'B', 'A']\n",
      "['C', 'B', 'A']\n",
      "result\n",
      "CBA\n",
      "['C', 'B', 'A']\n",
      "1\n",
      "['C', 'B', 'A']\n",
      "1\n",
      "['C', 'A', 'B']\n",
      "['C', 'A', 'B']\n",
      "result\n",
      "CAB\n",
      "['C', 'A', 'B']\n",
      "1\n",
      "['C', 'B', 'A']\n",
      "1\n",
      "['A', 'B', 'C']\n",
      "1\n"
     ]
    }
   ],
   "source": [
    "# Python3 program to print all permutations with\n",
    "# duplicates allowed\n",
    "def toString(List):\n",
    "\treturn ''.join(List)\n",
    "\n",
    "# Function to print permutations of string\n",
    "# This function takes three parameters:\n",
    "# 1. String\n",
    "# 2. Starting index of the string\n",
    "# 3. Ending index of the string.\n",
    "\n",
    "\n",
    "def permute(a, l, r):\n",
    "\tif l == r:\n",
    "\t\tprint('result')\n",
    "\t\tprint(toString(a))\n",
    "\telse:\n",
    "\t\tfor i in range(l, r):\n",
    "\t\t\t\n",
    "\t\t\ta[l], a[i] = a[i], a[l]\n",
    "\t\t\t\n",
    "\t\t\tprint(a)\n",
    "\t\t\tpermute(a, l+1, r)\n",
    "\t\t\t\n",
    "\t\t\ta[l], a[i] = a[i], a[l] # backtrack\n",
    "\t\t\tprint(a)\n",
    "\t\t\tprint('1')\n",
    "\n",
    "\n",
    "# Driver code\n",
    "string = \"ABC\"\n",
    "n = len(string)\n",
    "a = list(string)\n",
    "\n",
    "# Function call\n",
    "permute(a, 0, n)\n",
    "\n",
    "# This code is contributed by Bhavya Jain\n"
   ]
  },
  {
   "cell_type": "code",
   "execution_count": 20,
   "metadata": {},
   "outputs": [
    {
     "data": {
      "text/plain": [
       "['A', 'B', 'C']"
      ]
     },
     "execution_count": 20,
     "metadata": {},
     "output_type": "execute_result"
    }
   ],
   "source": [
    "a"
   ]
  },
  {
   "cell_type": "code",
   "execution_count": 21,
   "metadata": {},
   "outputs": [
    {
     "name": "stdout",
     "output_type": "stream",
     "text": [
      "ABC\n",
      "ACB\n",
      "BAC\n",
      "BCA\n",
      "CBA\n",
      "CAB\n"
     ]
    }
   ],
   "source": [
    "def permute(a: List[str], l: int, r: int):\n",
    "    if l == r:\n",
    "        print(toString(a))\n",
    "        return\n",
    "    else:\n",
    "        for i in range(l, r):\n",
    "            a[l], a[i] = a[i], a[l]\n",
    "            permute(a, l+1, r)\n",
    "            a[l], a[i] = a[i], a[l]\n",
    "\n",
    "permute(a, 0, len(a))"
   ]
  },
  {
   "cell_type": "code",
   "execution_count": null,
   "metadata": {},
   "outputs": [],
   "source": []
  },
  {
   "cell_type": "markdown",
   "metadata": {},
   "source": [
    "## cách 2"
   ]
  },
  {
   "cell_type": "code",
   "execution_count": 22,
   "metadata": {},
   "outputs": [
    {
     "name": "stdout",
     "output_type": "stream",
     "text": [
      "All possible strings are : \n",
      "ABC ACB BAC BCA CAB CBA "
     ]
    }
   ],
   "source": [
    "def permute(s, answer):\n",
    "\tif (len(s) == 0):\n",
    "\t\tprint(answer, end=\" \")\n",
    "\t\treturn\n",
    "\n",
    "\tfor i in range(len(s)):\n",
    "\t\tch = s[i]\n",
    "\t\tleft_substr = s[0:i]\n",
    "\t\tright_substr = s[i + 1:]\n",
    "\t\trest = left_substr + right_substr\n",
    "\t\tpermute(rest, answer + ch)\n",
    "\n",
    "\n",
    "# Driver Code\n",
    "answer = \"\"\n",
    "\n",
    "s = \"ABC\"\n",
    "\n",
    "print(\"All possible strings are : \")\n",
    "permute(s, answer)\n",
    "\n",
    "# This code is contributed by Harshit Srivastava\n",
    "\n"
   ]
  },
  {
   "cell_type": "code",
   "execution_count": 23,
   "metadata": {},
   "outputs": [
    {
     "data": {
      "text/plain": [
       "[]"
      ]
     },
     "execution_count": 23,
     "metadata": {},
     "output_type": "execute_result"
    }
   ],
   "source": [
    "a[0:0]"
   ]
  },
  {
   "cell_type": "code",
   "execution_count": null,
   "metadata": {},
   "outputs": [],
   "source": []
  }
 ],
 "metadata": {
  "kernelspec": {
   "display_name": "Python 3",
   "language": "python",
   "name": "python3"
  },
  "language_info": {
   "codemirror_mode": {
    "name": "ipython",
    "version": 3
   },
   "file_extension": ".py",
   "mimetype": "text/x-python",
   "name": "python",
   "nbconvert_exporter": "python",
   "pygments_lexer": "ipython3",
   "version": "3.9.6"
  },
  "orig_nbformat": 4
 },
 "nbformat": 4,
 "nbformat_minor": 2
}
